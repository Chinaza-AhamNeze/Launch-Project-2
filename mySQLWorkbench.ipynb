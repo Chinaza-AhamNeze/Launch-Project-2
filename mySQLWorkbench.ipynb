{
 "cells": [
  {
   "cell_type": "markdown",
   "metadata": {
    "id": "KJyao4Hj3V_f"
   },
   "source": [
    "## THIS NOTEBOOK WILL NOT WORK IN GOOGLE COLAB!!! IT MUST BE RUN LOCALLY!!! You can download it as an .ipynb file and open that with Jupyter notebook/labs"
   ]
  },
  {
   "cell_type": "code",
   "execution_count": 2,
   "metadata": {
    "colab": {
     "base_uri": "https://localhost:8080/"
    },
    "id": "pL3MK37u3V_h",
    "outputId": "c508df07-3ac9-463b-d519-7893ed0c6c66"
   },
   "outputs": [
    {
     "name": "stdout",
     "output_type": "stream",
     "text": [
      "Requirement already satisfied: sqlalchemy in c:\\users\\llama\\anaconda3\\lib\\site-packages (2.0.34)\n",
      "Requirement already satisfied: typing-extensions>=4.6.0 in c:\\users\\llama\\anaconda3\\lib\\site-packages (from sqlalchemy) (4.11.0)\n",
      "Requirement already satisfied: greenlet!=0.4.17 in c:\\users\\llama\\anaconda3\\lib\\site-packages (from sqlalchemy) (3.0.1)\n",
      "Requirement already satisfied: pymysql in c:\\users\\llama\\anaconda3\\lib\\site-packages (1.1.1)\n"
     ]
    }
   ],
   "source": [
    "!pip install sqlalchemy\n",
    "!pip install pymysql\n",
    "\n",
    "import sqlalchemy\n",
    "import pymysql\n",
    "from sqlalchemy import create_engine\n",
    "import pandas as pd"
   ]
  },
  {
   "cell_type": "markdown",
   "metadata": {
    "id": "EXYCzm4f60Tt"
   },
   "source": [
    "If you get an error saying something like \"sqlalchemy not installed\", you should add a code cell and write `pip install sqlalchemy`. Then, rerun the above cell (you might also need to install pymysql the same way)"
   ]
  },
  {
   "cell_type": "code",
   "execution_count": 3,
   "metadata": {
    "id": "dQADRimI3V_j"
   },
   "outputs": [],
   "source": [
    "password = '/'\n",
    "db_name = 'hotel_booking'"
   ]
  },
  {
   "cell_type": "code",
   "execution_count": null,
   "metadata": {
    "id": "HeHSgc1CrOak"
   },
   "outputs": [],
   "source": [
    "# import os\n",
    "# password = os.getenv(\"DB_PASSWORD\")"
   ]
  },
  {
   "cell_type": "code",
   "execution_count": 4,
   "metadata": {
    "id": "wkVFDxfq3V_j"
   },
   "outputs": [],
   "source": [
    "conn = pymysql.connect(host='127.0.0.1', port=3306, user='root', password=password, database=db_name)"
   ]
  },
  {
   "cell_type": "code",
   "execution_count": 5,
   "metadata": {
    "id": "8_4eHzso3V_j"
   },
   "outputs": [],
   "source": [
    "connection = create_engine(\"mysql+pymysql://root:\" + password + \"@localhost:3306/\" + db_name)"
   ]
  },
  {
   "cell_type": "code",
   "execution_count": 30,
   "metadata": {
    "id": "UUtddbLZ21do",
    "scrolled": true
   },
   "outputs": [],
   "source": [
    "reservations = pd.read_excel(r'C:\\Users\\llama\\Downloads\\Reservations.xlsx')"
   ]
  },
  {
   "cell_type": "code",
   "execution_count": 33,
   "metadata": {
    "id": "5ktGrJYM28Zl"
   },
   "outputs": [],
   "source": [
    "table_name = 'reservations'"
   ]
  },
  {
   "cell_type": "code",
   "execution_count": 34,
   "metadata": {
    "id": "1jna0HT821kQ",
    "outputId": "8a024dc2-ec14-4abd-917e-ac2ab6c6415d"
   },
   "outputs": [
    {
     "data": {
      "text/plain": [
       "102"
      ]
     },
     "execution_count": 34,
     "metadata": {},
     "output_type": "execute_result"
    }
   ],
   "source": [
    "reservations.to_sql(name=table_name, con=connection, if_exists='replace', index=False)"
   ]
  },
  {
   "cell_type": "code",
   "execution_count": 35,
   "metadata": {
    "colab": {
     "base_uri": "https://localhost:8080/",
     "height": 162
    },
    "id": "F8LiiJUW3V_k",
    "outputId": "abe122e0-0afb-44af-99ca-cd80996d242f"
   },
   "outputs": [],
   "source": [
    "rooms = pd.read_excel(r'C:\\Users\\llama\\Downloads\\Rooms.xlsx')"
   ]
  },
  {
   "cell_type": "code",
   "execution_count": 36,
   "metadata": {
    "id": "fx9qYzW53V_l"
   },
   "outputs": [],
   "source": [
    "table2_name = 'rooms'"
   ]
  },
  {
   "cell_type": "code",
   "execution_count": 37,
   "metadata": {
    "colab": {
     "base_uri": "https://localhost:8080/",
     "height": 144
    },
    "id": "v_9HNcLm3V_m",
    "outputId": "efb9548e-0406-4510-cab1-aa75b348b8fb"
   },
   "outputs": [
    {
     "data": {
      "text/plain": [
       "50"
      ]
     },
     "execution_count": 37,
     "metadata": {},
     "output_type": "execute_result"
    }
   ],
   "source": [
    "rooms.to_sql(name=table2_name, con=connection, if_exists='replace', index=False)"
   ]
  },
  {
   "cell_type": "code",
   "execution_count": 32,
   "metadata": {
    "colab": {
     "base_uri": "https://localhost:8080/",
     "height": 144
    },
    "id": "v_9HNcLm3V_m",
    "outputId": "efb9548e-0406-4510-cab1-aa75b348b8fb"
   },
   "outputs": [],
   "source": [
    "guests = pd.read_excel(r'C:\\Users\\llama\\Downloads\\Guests1.xlsx')"
   ]
  },
  {
   "cell_type": "code",
   "execution_count": 33,
   "metadata": {
    "colab": {
     "base_uri": "https://localhost:8080/",
     "height": 144
    },
    "id": "v_9HNcLm3V_m",
    "outputId": "efb9548e-0406-4510-cab1-aa75b348b8fb"
   },
   "outputs": [],
   "source": [
    "table3_name = 'guests'"
   ]
  },
  {
   "cell_type": "code",
   "execution_count": 34,
   "metadata": {
    "colab": {
     "base_uri": "https://localhost:8080/",
     "height": 144
    },
    "id": "v_9HNcLm3V_m",
    "outputId": "efb9548e-0406-4510-cab1-aa75b348b8fb"
   },
   "outputs": [
    {
     "data": {
      "text/plain": [
       "101"
      ]
     },
     "execution_count": 34,
     "metadata": {},
     "output_type": "execute_result"
    }
   ],
   "source": [
    "guests.to_sql(name=table3_name, con=connection, if_exists='replace', index=False)"
   ]
  },
  {
   "cell_type": "code",
   "execution_count": 6,
   "metadata": {
    "colab": {
     "base_uri": "https://localhost:8080/",
     "height": 144
    },
    "id": "v_9HNcLm3V_m",
    "outputId": "efb9548e-0406-4510-cab1-aa75b348b8fb"
   },
   "outputs": [],
   "source": [
    "payments = pd.read_excel(r'C:\\Users\\llama\\Downloads\\Payments1.xlsx')"
   ]
  },
  {
   "cell_type": "code",
   "execution_count": 7,
   "metadata": {
    "colab": {
     "base_uri": "https://localhost:8080/",
     "height": 144
    },
    "id": "v_9HNcLm3V_m",
    "outputId": "efb9548e-0406-4510-cab1-aa75b348b8fb"
   },
   "outputs": [],
   "source": [
    "table4_name = 'payments'"
   ]
  },
  {
   "cell_type": "code",
   "execution_count": 8,
   "metadata": {
    "colab": {
     "base_uri": "https://localhost:8080/",
     "height": 144
    },
    "id": "v_9HNcLm3V_m",
    "outputId": "efb9548e-0406-4510-cab1-aa75b348b8fb"
   },
   "outputs": [
    {
     "data": {
      "text/plain": [
       "102"
      ]
     },
     "execution_count": 8,
     "metadata": {},
     "output_type": "execute_result"
    }
   ],
   "source": [
    "payments.to_sql(name=table4_name, con=connection, if_exists='replace', index=False)"
   ]
  },
  {
   "cell_type": "markdown",
   "metadata": {
    "id": "aOmCA5gd5BiV"
   },
   "source": [
    "We use SQL syntax for querying. The triple quotation mark syntax allows us to write commands simiar to how we did in SQL"
   ]
  },
  {
   "cell_type": "code",
   "execution_count": 35,
   "metadata": {
    "id": "Jv7YkgW03V_m"
   },
   "outputs": [],
   "source": [
    "query1 = \"SELECT * FROM guests\"\n",
    "query2 = \"\"\"\n",
    "\n",
    "SELECT * FROM guests\n",
    "WHERE Membership_Status ='Platinum'\n",
    "\n",
    "\"\"\""
   ]
  },
  {
   "cell_type": "code",
   "execution_count": 36,
   "metadata": {
    "id": "GtcaW8xg3V_n"
   },
   "outputs": [],
   "source": [
    "result_df = pd.read_sql(query1, con=connection)"
   ]
  },
  {
   "cell_type": "code",
   "execution_count": 37,
   "metadata": {
    "id": "swupxQK03V_o",
    "outputId": "6fca2a42-71a8-4716-9f1f-7bbe0c73ee3b"
   },
   "outputs": [
    {
     "data": {
      "text/html": [
       "<div>\n",
       "<style scoped>\n",
       "    .dataframe tbody tr th:only-of-type {\n",
       "        vertical-align: middle;\n",
       "    }\n",
       "\n",
       "    .dataframe tbody tr th {\n",
       "        vertical-align: top;\n",
       "    }\n",
       "\n",
       "    .dataframe thead th {\n",
       "        text-align: right;\n",
       "    }\n",
       "</style>\n",
       "<table border=\"1\" class=\"dataframe\">\n",
       "  <thead>\n",
       "    <tr style=\"text-align: right;\">\n",
       "      <th></th>\n",
       "      <th>First_Name</th>\n",
       "      <th>Last_Name</th>\n",
       "      <th>Guest_ID</th>\n",
       "      <th>Address</th>\n",
       "      <th>Phone_number</th>\n",
       "      <th>Email</th>\n",
       "      <th>Membership_Status</th>\n",
       "    </tr>\n",
       "  </thead>\n",
       "  <tbody>\n",
       "    <tr>\n",
       "      <th>0</th>\n",
       "      <td>Kevin</td>\n",
       "      <td>Thompson</td>\n",
       "      <td>1000</td>\n",
       "      <td>165 Parrish Stravenue Apt. 494, Dalehaven, FL ...</td>\n",
       "      <td>(478) 686-3375</td>\n",
       "      <td>fmiles@hotmail.com</td>\n",
       "      <td>Silver</td>\n",
       "    </tr>\n",
       "    <tr>\n",
       "      <th>1</th>\n",
       "      <td>Travis</td>\n",
       "      <td>Williams</td>\n",
       "      <td>1001</td>\n",
       "      <td>8514 Lindsay Vista, New Sarahview, HI 36319</td>\n",
       "      <td>(069) 033-1190</td>\n",
       "      <td>christopher18@mccann.net</td>\n",
       "      <td>Silver</td>\n",
       "    </tr>\n",
       "    <tr>\n",
       "      <th>2</th>\n",
       "      <td>Colton</td>\n",
       "      <td>Harmon</td>\n",
       "      <td>1002</td>\n",
       "      <td>5022 Jones Streets Apt. 183, Barnesmouth, MN 4...</td>\n",
       "      <td>(067) 383-0284</td>\n",
       "      <td>wwillis@hotmail.com</td>\n",
       "      <td>Standard</td>\n",
       "    </tr>\n",
       "    <tr>\n",
       "      <th>3</th>\n",
       "      <td>Paige</td>\n",
       "      <td>Fox</td>\n",
       "      <td>1003</td>\n",
       "      <td>22901 Ramos Manors, Lawsonchester, IL 99452</td>\n",
       "      <td>(342) 836-4408</td>\n",
       "      <td>holly30@miller.com</td>\n",
       "      <td>Standard</td>\n",
       "    </tr>\n",
       "    <tr>\n",
       "      <th>4</th>\n",
       "      <td>Derek</td>\n",
       "      <td>Reese</td>\n",
       "      <td>1004</td>\n",
       "      <td>1497 Williams Locks Apt. 034, Port Derrick, LA...</td>\n",
       "      <td>(056) 856-6246</td>\n",
       "      <td>parkerjudith@hotmail.com</td>\n",
       "      <td>Standard</td>\n",
       "    </tr>\n",
       "    <tr>\n",
       "      <th>...</th>\n",
       "      <td>...</td>\n",
       "      <td>...</td>\n",
       "      <td>...</td>\n",
       "      <td>...</td>\n",
       "      <td>...</td>\n",
       "      <td>...</td>\n",
       "      <td>...</td>\n",
       "    </tr>\n",
       "    <tr>\n",
       "      <th>96</th>\n",
       "      <td>Lindsey</td>\n",
       "      <td>Hines</td>\n",
       "      <td>1097</td>\n",
       "      <td>135 Julie Inlet Suite 554, Stevenville, AR 83652</td>\n",
       "      <td>991-738-1684</td>\n",
       "      <td>pittsedward@gmail.com</td>\n",
       "      <td>Platinum</td>\n",
       "    </tr>\n",
       "    <tr>\n",
       "      <th>97</th>\n",
       "      <td>Matthew</td>\n",
       "      <td>Benitez</td>\n",
       "      <td>1098</td>\n",
       "      <td>52175 Lawrence Centers Apt. 743, New Kathy, WY...</td>\n",
       "      <td>966-667-6008</td>\n",
       "      <td>stephanie58@smith.com</td>\n",
       "      <td>Standard</td>\n",
       "    </tr>\n",
       "    <tr>\n",
       "      <th>98</th>\n",
       "      <td>Jeremy</td>\n",
       "      <td>Wiley</td>\n",
       "      <td>1099</td>\n",
       "      <td>8942 Madison Hills, Stephenhaven, NC 44781</td>\n",
       "      <td>257-532-6033</td>\n",
       "      <td>richardsondebra@brooks.com</td>\n",
       "      <td>Platinum</td>\n",
       "    </tr>\n",
       "    <tr>\n",
       "      <th>99</th>\n",
       "      <td>Kelsey</td>\n",
       "      <td>Dean</td>\n",
       "      <td>1100</td>\n",
       "      <td>100 Robert Light, New Johnnyberg, UT 90382</td>\n",
       "      <td>046-184-9926</td>\n",
       "      <td>glovertyler@hotmail.com</td>\n",
       "      <td>Platinum</td>\n",
       "    </tr>\n",
       "    <tr>\n",
       "      <th>100</th>\n",
       "      <td>James</td>\n",
       "      <td>Baker</td>\n",
       "      <td>1101</td>\n",
       "      <td>6420 Lozano Spurs, Riveratown, TN 12166</td>\n",
       "      <td>972-181-1437</td>\n",
       "      <td>steven12@gmail.com</td>\n",
       "      <td>Platinum</td>\n",
       "    </tr>\n",
       "  </tbody>\n",
       "</table>\n",
       "<p>101 rows × 7 columns</p>\n",
       "</div>"
      ],
      "text/plain": [
       "    First_Name Last_Name  Guest_ID  \\\n",
       "0        Kevin  Thompson      1000   \n",
       "1       Travis  Williams      1001   \n",
       "2       Colton    Harmon      1002   \n",
       "3        Paige       Fox      1003   \n",
       "4        Derek     Reese      1004   \n",
       "..         ...       ...       ...   \n",
       "96     Lindsey     Hines      1097   \n",
       "97     Matthew   Benitez      1098   \n",
       "98      Jeremy     Wiley      1099   \n",
       "99      Kelsey      Dean      1100   \n",
       "100      James     Baker      1101   \n",
       "\n",
       "                                               Address    Phone_number  \\\n",
       "0    165 Parrish Stravenue Apt. 494, Dalehaven, FL ...  (478) 686-3375   \n",
       "1          8514 Lindsay Vista, New Sarahview, HI 36319  (069) 033-1190   \n",
       "2    5022 Jones Streets Apt. 183, Barnesmouth, MN 4...  (067) 383-0284   \n",
       "3          22901 Ramos Manors, Lawsonchester, IL 99452  (342) 836-4408   \n",
       "4    1497 Williams Locks Apt. 034, Port Derrick, LA...  (056) 856-6246   \n",
       "..                                                 ...             ...   \n",
       "96    135 Julie Inlet Suite 554, Stevenville, AR 83652    991-738-1684   \n",
       "97   52175 Lawrence Centers Apt. 743, New Kathy, WY...    966-667-6008   \n",
       "98          8942 Madison Hills, Stephenhaven, NC 44781    257-532-6033   \n",
       "99          100 Robert Light, New Johnnyberg, UT 90382    046-184-9926   \n",
       "100            6420 Lozano Spurs, Riveratown, TN 12166    972-181-1437   \n",
       "\n",
       "                          Email Membership_Status  \n",
       "0            fmiles@hotmail.com            Silver  \n",
       "1      christopher18@mccann.net            Silver  \n",
       "2           wwillis@hotmail.com          Standard  \n",
       "3            holly30@miller.com          Standard  \n",
       "4      parkerjudith@hotmail.com          Standard  \n",
       "..                          ...               ...  \n",
       "96        pittsedward@gmail.com          Platinum  \n",
       "97        stephanie58@smith.com          Standard  \n",
       "98   richardsondebra@brooks.com          Platinum  \n",
       "99      glovertyler@hotmail.com          Platinum  \n",
       "100          steven12@gmail.com          Platinum  \n",
       "\n",
       "[101 rows x 7 columns]"
      ]
     },
     "execution_count": 37,
     "metadata": {},
     "output_type": "execute_result"
    }
   ],
   "source": [
    "result_df"
   ]
  },
  {
   "cell_type": "code",
   "execution_count": 38,
   "metadata": {
    "id": "fuG3zDfq3V_p"
   },
   "outputs": [],
   "source": [
    "result_df_2 = pd.read_sql(query2, con=connection)"
   ]
  },
  {
   "cell_type": "code",
   "execution_count": 39,
   "metadata": {
    "id": "aSNSGVG53V_q",
    "outputId": "4fc1aa95-2253-46cc-a195-030488c13650"
   },
   "outputs": [
    {
     "data": {
      "text/html": [
       "<div>\n",
       "<style scoped>\n",
       "    .dataframe tbody tr th:only-of-type {\n",
       "        vertical-align: middle;\n",
       "    }\n",
       "\n",
       "    .dataframe tbody tr th {\n",
       "        vertical-align: top;\n",
       "    }\n",
       "\n",
       "    .dataframe thead th {\n",
       "        text-align: right;\n",
       "    }\n",
       "</style>\n",
       "<table border=\"1\" class=\"dataframe\">\n",
       "  <thead>\n",
       "    <tr style=\"text-align: right;\">\n",
       "      <th></th>\n",
       "      <th>First_Name</th>\n",
       "      <th>Last_Name</th>\n",
       "      <th>Guest_ID</th>\n",
       "      <th>Address</th>\n",
       "      <th>Phone_number</th>\n",
       "      <th>Email</th>\n",
       "      <th>Membership_Status</th>\n",
       "    </tr>\n",
       "  </thead>\n",
       "  <tbody>\n",
       "    <tr>\n",
       "      <th>0</th>\n",
       "      <td>Robert</td>\n",
       "      <td>Logan</td>\n",
       "      <td>1012</td>\n",
       "      <td>51864 Cummings Shoals Apt. 519, West Kyle, UT ...</td>\n",
       "      <td>(808) 010-0623</td>\n",
       "      <td>margaret95@gmail.com</td>\n",
       "      <td>Platinum</td>\n",
       "    </tr>\n",
       "    <tr>\n",
       "      <th>1</th>\n",
       "      <td>Ricky</td>\n",
       "      <td>Ellis</td>\n",
       "      <td>1015</td>\n",
       "      <td>880 Walter River, New Nicholas, HI 91313</td>\n",
       "      <td>(398) 454-6156</td>\n",
       "      <td>kellymueller@hotmail.com</td>\n",
       "      <td>Platinum</td>\n",
       "    </tr>\n",
       "    <tr>\n",
       "      <th>2</th>\n",
       "      <td>Antonio</td>\n",
       "      <td>Brown</td>\n",
       "      <td>1017</td>\n",
       "      <td>59774 Shaw Manor Apt. 392, Brettfort, MN 73185</td>\n",
       "      <td>(659) 180-3397</td>\n",
       "      <td>randolphandrew@reed.com</td>\n",
       "      <td>Platinum</td>\n",
       "    </tr>\n",
       "    <tr>\n",
       "      <th>3</th>\n",
       "      <td>Mitchell</td>\n",
       "      <td>Mendoza</td>\n",
       "      <td>1018</td>\n",
       "      <td>USS Mitchell, FPO AE 36256</td>\n",
       "      <td>(890) 250-3926</td>\n",
       "      <td>usweeney@garcia-moreno.com</td>\n",
       "      <td>Platinum</td>\n",
       "    </tr>\n",
       "    <tr>\n",
       "      <th>4</th>\n",
       "      <td>Cory</td>\n",
       "      <td>Browning</td>\n",
       "      <td>1022</td>\n",
       "      <td>17980 Jennifer Highway Suite 095, New Robert, ...</td>\n",
       "      <td>(655) 110-4754</td>\n",
       "      <td>kjones@graham.com</td>\n",
       "      <td>Platinum</td>\n",
       "    </tr>\n",
       "    <tr>\n",
       "      <th>5</th>\n",
       "      <td>Amy</td>\n",
       "      <td>Miller</td>\n",
       "      <td>1024</td>\n",
       "      <td>05852 Pollard Neck Apt. 217, West Jamesborough...</td>\n",
       "      <td>(604) 661-8398</td>\n",
       "      <td>jesus32@hotmail.com</td>\n",
       "      <td>Platinum</td>\n",
       "    </tr>\n",
       "    <tr>\n",
       "      <th>6</th>\n",
       "      <td>Tiffany</td>\n",
       "      <td>Franklin</td>\n",
       "      <td>1025</td>\n",
       "      <td>USCGC Hays, FPO AP 62550</td>\n",
       "      <td>(444) 721-2646</td>\n",
       "      <td>danielcole@russell-herrera.com</td>\n",
       "      <td>Platinum</td>\n",
       "    </tr>\n",
       "    <tr>\n",
       "      <th>7</th>\n",
       "      <td>Michael</td>\n",
       "      <td>Jones</td>\n",
       "      <td>1026</td>\n",
       "      <td>5054 Lauren Mews, Paulfurt, HI 65539</td>\n",
       "      <td>(437) 993-7124</td>\n",
       "      <td>steven11@gmail.com</td>\n",
       "      <td>Platinum</td>\n",
       "    </tr>\n",
       "    <tr>\n",
       "      <th>8</th>\n",
       "      <td>Travis</td>\n",
       "      <td>Williams</td>\n",
       "      <td>1029</td>\n",
       "      <td>8515 Lindsay Vista, New Sarahview, HI 36319</td>\n",
       "      <td>(069) 033-1191</td>\n",
       "      <td>christopher18@mccann.net</td>\n",
       "      <td>Platinum</td>\n",
       "    </tr>\n",
       "    <tr>\n",
       "      <th>9</th>\n",
       "      <td>Kristin</td>\n",
       "      <td>Miles</td>\n",
       "      <td>1036</td>\n",
       "      <td>84249 Wayne Extension Apt. 299, Meganshire, AK...</td>\n",
       "      <td>(362) 266-0937</td>\n",
       "      <td>patrick63@wilkerson.net</td>\n",
       "      <td>Platinum</td>\n",
       "    </tr>\n",
       "    <tr>\n",
       "      <th>10</th>\n",
       "      <td>David</td>\n",
       "      <td>Curtis</td>\n",
       "      <td>1038</td>\n",
       "      <td>3592 Hensley Island Suite 625, West Johnville,...</td>\n",
       "      <td>(785) 969-6915</td>\n",
       "      <td>bnelson@yahoo.com</td>\n",
       "      <td>Platinum</td>\n",
       "    </tr>\n",
       "    <tr>\n",
       "      <th>11</th>\n",
       "      <td>Kathy</td>\n",
       "      <td>Lewis</td>\n",
       "      <td>1041</td>\n",
       "      <td>45650 Williams Points Apt. 584, South Williams...</td>\n",
       "      <td>(225) 790-5072</td>\n",
       "      <td>amanda03@bradford.com</td>\n",
       "      <td>Platinum</td>\n",
       "    </tr>\n",
       "    <tr>\n",
       "      <th>12</th>\n",
       "      <td>Molly</td>\n",
       "      <td>Morgan</td>\n",
       "      <td>1044</td>\n",
       "      <td>0551 Silva Underpass Apt. 974, Lake Brett, GA ...</td>\n",
       "      <td>(807) 836-1340</td>\n",
       "      <td>halljeffery@woods.com</td>\n",
       "      <td>Platinum</td>\n",
       "    </tr>\n",
       "    <tr>\n",
       "      <th>13</th>\n",
       "      <td>David</td>\n",
       "      <td>Hernandez</td>\n",
       "      <td>1051</td>\n",
       "      <td>400 Bradley Coves, Justinside, NM 18090</td>\n",
       "      <td>(706) 324-2415</td>\n",
       "      <td>carriemccall@walker.com</td>\n",
       "      <td>Platinum</td>\n",
       "    </tr>\n",
       "    <tr>\n",
       "      <th>14</th>\n",
       "      <td>John</td>\n",
       "      <td>Leblanc</td>\n",
       "      <td>1052</td>\n",
       "      <td>3152 Wong Stravenue Apt. 054, East Cheryl, MO ...</td>\n",
       "      <td>(064) 361-1037</td>\n",
       "      <td>youngtoni@gmail.com</td>\n",
       "      <td>Platinum</td>\n",
       "    </tr>\n",
       "    <tr>\n",
       "      <th>15</th>\n",
       "      <td>Greg</td>\n",
       "      <td>Jones</td>\n",
       "      <td>1053</td>\n",
       "      <td>1227 Boyle Avenue, Patrickmouth, KY 43705</td>\n",
       "      <td>(870) 051-6271</td>\n",
       "      <td>sean43@steele.com</td>\n",
       "      <td>Platinum</td>\n",
       "    </tr>\n",
       "    <tr>\n",
       "      <th>16</th>\n",
       "      <td>Anthony</td>\n",
       "      <td>Davis</td>\n",
       "      <td>1055</td>\n",
       "      <td>2795 Miles Mountains, Port John, PA 11231</td>\n",
       "      <td>(753) 269-7311</td>\n",
       "      <td>amy17@hotmail.com</td>\n",
       "      <td>Platinum</td>\n",
       "    </tr>\n",
       "    <tr>\n",
       "      <th>17</th>\n",
       "      <td>John</td>\n",
       "      <td>Cain</td>\n",
       "      <td>1058</td>\n",
       "      <td>65180 Valerie Mountains, West Robertberg, SD 9...</td>\n",
       "      <td>(791) 805-5269</td>\n",
       "      <td>bbush@hotmail.com</td>\n",
       "      <td>Platinum</td>\n",
       "    </tr>\n",
       "    <tr>\n",
       "      <th>18</th>\n",
       "      <td>Daniel</td>\n",
       "      <td>Davis</td>\n",
       "      <td>1063</td>\n",
       "      <td>845 Norton Common, Susanmouth, IA 91889</td>\n",
       "      <td>410-166-6870</td>\n",
       "      <td>christopherbruce@mueller.com</td>\n",
       "      <td>Platinum</td>\n",
       "    </tr>\n",
       "    <tr>\n",
       "      <th>19</th>\n",
       "      <td>Patricia</td>\n",
       "      <td>Ellison</td>\n",
       "      <td>1064</td>\n",
       "      <td>0148 Harry Vista Suite 039, Port Lori, MO 10585</td>\n",
       "      <td>293-968-5621</td>\n",
       "      <td>marypeterson@hotmail.com</td>\n",
       "      <td>Platinum</td>\n",
       "    </tr>\n",
       "    <tr>\n",
       "      <th>20</th>\n",
       "      <td>Donald</td>\n",
       "      <td>Edwards</td>\n",
       "      <td>1072</td>\n",
       "      <td>0723 Maynard Parkways, Ortizfort, VT 58677</td>\n",
       "      <td>219-034-0438</td>\n",
       "      <td>armstrongjoseph@hotmail.com</td>\n",
       "      <td>Platinum</td>\n",
       "    </tr>\n",
       "    <tr>\n",
       "      <th>21</th>\n",
       "      <td>Valerie</td>\n",
       "      <td>Peck</td>\n",
       "      <td>1078</td>\n",
       "      <td>8271 Brenda Bridge Suite 300, Hunterhaven, MT ...</td>\n",
       "      <td>618-892-4141</td>\n",
       "      <td>wwillis@hotmail.com</td>\n",
       "      <td>Platinum</td>\n",
       "    </tr>\n",
       "    <tr>\n",
       "      <th>22</th>\n",
       "      <td>Erin</td>\n",
       "      <td>Jones</td>\n",
       "      <td>1079</td>\n",
       "      <td>31617 Kyle Streets, North Alexander, UT 01988</td>\n",
       "      <td>758-842-5241</td>\n",
       "      <td>lindsay48@baker.com</td>\n",
       "      <td>Platinum</td>\n",
       "    </tr>\n",
       "    <tr>\n",
       "      <th>23</th>\n",
       "      <td>Tyler</td>\n",
       "      <td>Dixon</td>\n",
       "      <td>1080</td>\n",
       "      <td>2419 Jeremy Pass, North Micheletown, AZ 62336</td>\n",
       "      <td>622-086-3536</td>\n",
       "      <td>shawrachel@gmail.com</td>\n",
       "      <td>Platinum</td>\n",
       "    </tr>\n",
       "    <tr>\n",
       "      <th>24</th>\n",
       "      <td>John</td>\n",
       "      <td>Allen</td>\n",
       "      <td>1086</td>\n",
       "      <td>96522 Brittany Valley, Robintown, UT 46596</td>\n",
       "      <td>929-378-4270</td>\n",
       "      <td>halljeffery@woods.com</td>\n",
       "      <td>Platinum</td>\n",
       "    </tr>\n",
       "    <tr>\n",
       "      <th>25</th>\n",
       "      <td>Matthew</td>\n",
       "      <td>Thompson</td>\n",
       "      <td>1087</td>\n",
       "      <td>02921 Yu Landing Suite 915, Marcusburgh, NE 84290</td>\n",
       "      <td>528-953-9264</td>\n",
       "      <td>whitelucas@hotmail.com</td>\n",
       "      <td>Platinum</td>\n",
       "    </tr>\n",
       "    <tr>\n",
       "      <th>26</th>\n",
       "      <td>Steven</td>\n",
       "      <td>Perez</td>\n",
       "      <td>1091</td>\n",
       "      <td>11586 Angela Ville, Cardenaschester, TX 62737</td>\n",
       "      <td>374-160-8989</td>\n",
       "      <td>averyshane@stanton.com</td>\n",
       "      <td>Platinum</td>\n",
       "    </tr>\n",
       "    <tr>\n",
       "      <th>27</th>\n",
       "      <td>Lindsey</td>\n",
       "      <td>Hines</td>\n",
       "      <td>1097</td>\n",
       "      <td>135 Julie Inlet Suite 554, Stevenville, AR 83652</td>\n",
       "      <td>991-738-1684</td>\n",
       "      <td>pittsedward@gmail.com</td>\n",
       "      <td>Platinum</td>\n",
       "    </tr>\n",
       "    <tr>\n",
       "      <th>28</th>\n",
       "      <td>Jeremy</td>\n",
       "      <td>Wiley</td>\n",
       "      <td>1099</td>\n",
       "      <td>8942 Madison Hills, Stephenhaven, NC 44781</td>\n",
       "      <td>257-532-6033</td>\n",
       "      <td>richardsondebra@brooks.com</td>\n",
       "      <td>Platinum</td>\n",
       "    </tr>\n",
       "    <tr>\n",
       "      <th>29</th>\n",
       "      <td>Kelsey</td>\n",
       "      <td>Dean</td>\n",
       "      <td>1100</td>\n",
       "      <td>100 Robert Light, New Johnnyberg, UT 90382</td>\n",
       "      <td>046-184-9926</td>\n",
       "      <td>glovertyler@hotmail.com</td>\n",
       "      <td>Platinum</td>\n",
       "    </tr>\n",
       "    <tr>\n",
       "      <th>30</th>\n",
       "      <td>James</td>\n",
       "      <td>Baker</td>\n",
       "      <td>1101</td>\n",
       "      <td>6420 Lozano Spurs, Riveratown, TN 12166</td>\n",
       "      <td>972-181-1437</td>\n",
       "      <td>steven12@gmail.com</td>\n",
       "      <td>Platinum</td>\n",
       "    </tr>\n",
       "  </tbody>\n",
       "</table>\n",
       "</div>"
      ],
      "text/plain": [
       "   First_Name  Last_Name  Guest_ID  \\\n",
       "0      Robert      Logan      1012   \n",
       "1       Ricky      Ellis      1015   \n",
       "2     Antonio      Brown      1017   \n",
       "3    Mitchell    Mendoza      1018   \n",
       "4        Cory   Browning      1022   \n",
       "5         Amy     Miller      1024   \n",
       "6     Tiffany   Franklin      1025   \n",
       "7     Michael      Jones      1026   \n",
       "8      Travis   Williams      1029   \n",
       "9     Kristin      Miles      1036   \n",
       "10      David     Curtis      1038   \n",
       "11      Kathy      Lewis      1041   \n",
       "12      Molly     Morgan      1044   \n",
       "13      David  Hernandez      1051   \n",
       "14       John    Leblanc      1052   \n",
       "15       Greg      Jones      1053   \n",
       "16    Anthony      Davis      1055   \n",
       "17       John       Cain      1058   \n",
       "18     Daniel      Davis      1063   \n",
       "19   Patricia    Ellison      1064   \n",
       "20     Donald    Edwards      1072   \n",
       "21    Valerie       Peck      1078   \n",
       "22       Erin      Jones      1079   \n",
       "23      Tyler      Dixon      1080   \n",
       "24       John      Allen      1086   \n",
       "25    Matthew   Thompson      1087   \n",
       "26     Steven      Perez      1091   \n",
       "27    Lindsey      Hines      1097   \n",
       "28     Jeremy      Wiley      1099   \n",
       "29     Kelsey       Dean      1100   \n",
       "30      James      Baker      1101   \n",
       "\n",
       "                                              Address    Phone_number  \\\n",
       "0   51864 Cummings Shoals Apt. 519, West Kyle, UT ...  (808) 010-0623   \n",
       "1            880 Walter River, New Nicholas, HI 91313  (398) 454-6156   \n",
       "2      59774 Shaw Manor Apt. 392, Brettfort, MN 73185  (659) 180-3397   \n",
       "3                          USS Mitchell, FPO AE 36256  (890) 250-3926   \n",
       "4   17980 Jennifer Highway Suite 095, New Robert, ...  (655) 110-4754   \n",
       "5   05852 Pollard Neck Apt. 217, West Jamesborough...  (604) 661-8398   \n",
       "6                            USCGC Hays, FPO AP 62550  (444) 721-2646   \n",
       "7                5054 Lauren Mews, Paulfurt, HI 65539  (437) 993-7124   \n",
       "8         8515 Lindsay Vista, New Sarahview, HI 36319  (069) 033-1191   \n",
       "9   84249 Wayne Extension Apt. 299, Meganshire, AK...  (362) 266-0937   \n",
       "10  3592 Hensley Island Suite 625, West Johnville,...  (785) 969-6915   \n",
       "11  45650 Williams Points Apt. 584, South Williams...  (225) 790-5072   \n",
       "12  0551 Silva Underpass Apt. 974, Lake Brett, GA ...  (807) 836-1340   \n",
       "13            400 Bradley Coves, Justinside, NM 18090  (706) 324-2415   \n",
       "14  3152 Wong Stravenue Apt. 054, East Cheryl, MO ...  (064) 361-1037   \n",
       "15          1227 Boyle Avenue, Patrickmouth, KY 43705  (870) 051-6271   \n",
       "16          2795 Miles Mountains, Port John, PA 11231  (753) 269-7311   \n",
       "17  65180 Valerie Mountains, West Robertberg, SD 9...  (791) 805-5269   \n",
       "18            845 Norton Common, Susanmouth, IA 91889    410-166-6870   \n",
       "19    0148 Harry Vista Suite 039, Port Lori, MO 10585    293-968-5621   \n",
       "20         0723 Maynard Parkways, Ortizfort, VT 58677    219-034-0438   \n",
       "21  8271 Brenda Bridge Suite 300, Hunterhaven, MT ...    618-892-4141   \n",
       "22      31617 Kyle Streets, North Alexander, UT 01988    758-842-5241   \n",
       "23      2419 Jeremy Pass, North Micheletown, AZ 62336    622-086-3536   \n",
       "24         96522 Brittany Valley, Robintown, UT 46596    929-378-4270   \n",
       "25  02921 Yu Landing Suite 915, Marcusburgh, NE 84290    528-953-9264   \n",
       "26      11586 Angela Ville, Cardenaschester, TX 62737    374-160-8989   \n",
       "27   135 Julie Inlet Suite 554, Stevenville, AR 83652    991-738-1684   \n",
       "28         8942 Madison Hills, Stephenhaven, NC 44781    257-532-6033   \n",
       "29         100 Robert Light, New Johnnyberg, UT 90382    046-184-9926   \n",
       "30            6420 Lozano Spurs, Riveratown, TN 12166    972-181-1437   \n",
       "\n",
       "                             Email Membership_Status  \n",
       "0             margaret95@gmail.com          Platinum  \n",
       "1         kellymueller@hotmail.com          Platinum  \n",
       "2          randolphandrew@reed.com          Platinum  \n",
       "3       usweeney@garcia-moreno.com          Platinum  \n",
       "4                kjones@graham.com          Platinum  \n",
       "5              jesus32@hotmail.com          Platinum  \n",
       "6   danielcole@russell-herrera.com          Platinum  \n",
       "7               steven11@gmail.com          Platinum  \n",
       "8         christopher18@mccann.net          Platinum  \n",
       "9          patrick63@wilkerson.net          Platinum  \n",
       "10               bnelson@yahoo.com          Platinum  \n",
       "11           amanda03@bradford.com          Platinum  \n",
       "12           halljeffery@woods.com          Platinum  \n",
       "13         carriemccall@walker.com          Platinum  \n",
       "14             youngtoni@gmail.com          Platinum  \n",
       "15               sean43@steele.com          Platinum  \n",
       "16               amy17@hotmail.com          Platinum  \n",
       "17               bbush@hotmail.com          Platinum  \n",
       "18    christopherbruce@mueller.com          Platinum  \n",
       "19        marypeterson@hotmail.com          Platinum  \n",
       "20     armstrongjoseph@hotmail.com          Platinum  \n",
       "21             wwillis@hotmail.com          Platinum  \n",
       "22             lindsay48@baker.com          Platinum  \n",
       "23            shawrachel@gmail.com          Platinum  \n",
       "24           halljeffery@woods.com          Platinum  \n",
       "25          whitelucas@hotmail.com          Platinum  \n",
       "26          averyshane@stanton.com          Platinum  \n",
       "27           pittsedward@gmail.com          Platinum  \n",
       "28      richardsondebra@brooks.com          Platinum  \n",
       "29         glovertyler@hotmail.com          Platinum  \n",
       "30              steven12@gmail.com          Platinum  "
      ]
     },
     "execution_count": 39,
     "metadata": {},
     "output_type": "execute_result"
    }
   ],
   "source": [
    "result_df_2"
   ]
  }
 ],
 "metadata": {
  "colab": {
   "provenance": []
  },
  "kernelspec": {
   "display_name": "Python 3 (ipykernel)",
   "language": "python",
   "name": "python3"
  },
  "language_info": {
   "codemirror_mode": {
    "name": "ipython",
    "version": 3
   },
   "file_extension": ".py",
   "mimetype": "text/x-python",
   "name": "python",
   "nbconvert_exporter": "python",
   "pygments_lexer": "ipython3",
   "version": "3.12.7"
  }
 },
 "nbformat": 4,
 "nbformat_minor": 4
}
